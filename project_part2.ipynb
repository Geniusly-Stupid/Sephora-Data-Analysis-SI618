{
 "cells": [
  {
   "cell_type": "markdown",
   "metadata": {},
   "source": [
    "# 618 Project - Cosmetics Product Analysis Part 1\n",
    "\n",
    "**Title:**\n",
    "\n",
    "Uncovering Market Trends and Key Drivers of Customer Satisfaction: A Data Analysis of Sephora Products and Reviews\n",
    "\n",
    "**Team Members**: \n",
    "- Ruizhe Wang (Unique Name: wrzwrz)\n",
    "- Zhiyi Ji (Unique Name: jizhiyi)"
   ]
  },
  {
   "cell_type": "markdown",
   "metadata": {},
   "source": [
    "## Overview\n",
    "\n",
    "This project focuses on analyzing the **Sephora Products and Skincare Reviews Dataset**, which contains detailed information on over 8,000 beauty products and 1 million customer reviews. The dataset provides key insights into the cosmetic industry through product attributes, prices, ingredients, and customer feedback. \n",
    "\n",
    "Our primary objective is to identify **factors that drive higher product ratings** and understand how ingredients, prices, and product types influence customer satisfaction. Additionally, we aim to explore why certain products underperform by analyzing user reviews. Beyond ratings, we will investigate **trends in consumer sentiment** over time and assess the impact of movements like \"clean beauty\" and seasonal variations in feedback. \n",
    "\n",
    "Using **data manipulation, sentiment analysis, and visualization**, we intend to uncover patterns in customer behavior, empowering brands to align their strategies with customer needs and industry trends.\n",
    "\n",
    "## Motivation\n",
    "\n",
    "The cosmetic and skincare industry is evolving rapidly, with consumers becoming more focused on **tailored solutions and sustainable products**. Customer reviews are now essential in shaping brand reputations and guiding purchase decisions. This project is motivated by a desire to understand **what drives customer satisfaction**, allowing businesses to improve product offerings based on consumer needs. \n",
    "\n",
    "Specifically, we aim to address the following **3 real-world questions**:\n",
    "1. **What factors drive higher product ratings?** Why do certain products underperform?  \n",
    "   - What we hope to learn: Identify which product attributes (e.g., ingredients, price) are linked to higher satisfaction and uncover common issues affecting low-rated products. We also want to generate methods to resolve the issues. \n",
    "\n",
    "2. **How does customer sentiment change over time?**  \n",
    "   - What we hope to learn: Analyze shifts in customer feedback and assess the impact of trends (e.g. \"clean beauty\") to better understand evolving preferences.  \n",
    "\n",
    "3. **Are certain ingredients linked to positive or negative customer experiences?**  \n",
    "   - What we hope to learn: Detect patterns in ingredient preferences and identify sources of customer dissatisfaction.  \n",
    "\n",
    "Through this analysis, we hope to generate **actionable insights** that help brands meet customer expectations, avoid problematic ingredients, and **enhance customer experiences**. "
   ]
  },
  {
   "cell_type": "markdown",
   "metadata": {},
   "source": [
    "## Data Sources"
   ]
  },
  {
   "cell_type": "markdown",
   "metadata": {},
   "source": [
    "Our project utilizes two primary datasets, which complement each other by linking **product attributes** with **customer feedback**, providing the comprehensive information for our analysis.  \n",
    "\n",
    "This data was collected in March 2023 and provides detailed information on a variety of beauty and skincare products available on Sephora's online store. It includes both product details and customer reviews, offering a comprehensive view of customer feedback and product features. The dataset is publicly available on Kaggle, a popular data platform, making it suitable for exploratory analysis and machine learning tasks.\n",
    "\n",
    "**URL:**\n",
    "- [Kaggle: Sephora Products and Skincare Reviews Dataset](https://www.kaggle.com/datasets/nadyinky/sephora-products-and-skincare-reviews/data)\n",
    "\n",
    "**Description:**\n",
    "\n",
    "1. **Product Information Dataset** (`product_info.csv`)  \n",
    "   - Contains detailed data on **8,000+ products** from various brands, covering the following attributes:\n",
    "     - **Product name** and **brand**  \n",
    "     - **Price**  \n",
    "     - **Ingredients** and **product type** (e.g., moisturizer, serum)  \n",
    "     - Product features (e.g., organic, vegan, chemical-free)  \n",
    "   - **Purpose**: This dataset allows us to analyze product pricing, ingredients, average ratings and categorize product types.  \n",
    "\n",
    "2. **Customer Reviews Dataset**  \n",
    "   - Split across multiple files: `review_0-250.csv`, `review_250-500.csv`, `review_500-750.csv`, `review_750-1250.csv`, `review_1250-end.csv`.  \n",
    "   - Contains **1 million+ reviews** on over **2,000 skincare products**, with key data fields:\n",
    "     - **Ratings**: Numerical scores reflecting customer satisfaction  \n",
    "     - **Review text**: Customer opinions, experiences, and feedback  \n",
    "     - **Review metadata**: User details (e.g., skin type) and peer ratings on the helpfulness of reviews  \n",
    "     - **Date**: Submitting date of the reviews. \n",
    "   - **Purpose**: This dataset helps us explore customer feedbacks and sentiment and detect market trends.\n",
    "\n",
    "#### How the Datasets Complement Each Other\n",
    "\n",
    "The **product information dataset** provides insight into product attributes such as ingredients, pricing and etc., while the **customer reviews dataset** offers feedback on how these products perform from the customer’s perspective. Together, these datasets offer a comprehensive view of the relationship between product attributes and consumer experiences, enabling us to uncover actionable insights for brands in the cosmetic industry. \n",
    "\n",
    "It is worth noting that the customer reviews dataset covers reviews on **only 2,000 skincare products**, while the product information dataset includes details on **8,000+ products** across various categories."
   ]
  },
  {
   "cell_type": "markdown",
   "metadata": {},
   "source": [
    "## Data Description\n"
   ]
  },
  {
   "cell_type": "code",
   "execution_count": null,
   "metadata": {},
   "outputs": [],
   "source": [
    "# import packages\n",
    "\n",
    "import pandas as pd\n",
    "import numpy as np\n",
    "import matplotlib.pyplot as plt\n",
    "import seaborn as sns\n",
    "from collections import Counter\n",
    "from wordcloud import WordCloud"
   ]
  },
  {
   "cell_type": "markdown",
   "metadata": {},
   "source": [
    "### Product Information\n",
    "\n",
    "Firstly, we load the data from existing `csv` file and get an idea of its shape as well as fields included."
   ]
  },
  {
   "cell_type": "code",
   "execution_count": null,
   "metadata": {},
   "outputs": [],
   "source": [
    "product_df = pd.read_csv(\"Sephora/product_info.csv\")"
   ]
  },
  {
   "cell_type": "code",
   "execution_count": null,
   "metadata": {},
   "outputs": [],
   "source": [
    "print(\"product info dataframe shape: \", product_df.shape)\n",
    "product_df.head()"
   ]
  },
  {
   "cell_type": "markdown",
   "metadata": {},
   "source": [
    "To get an idea of the general information of the dataset both intuitively and statistically, we use `.info()` and `.describe()` correspondingly to have basic information result, and the outcome is displayed as follows."
   ]
  },
  {
   "cell_type": "code",
   "execution_count": null,
   "metadata": {},
   "outputs": [],
   "source": [
    "print(\"Basic Information:\")\n",
    "product_df.info()"
   ]
  },
  {
   "cell_type": "code",
   "execution_count": null,
   "metadata": {},
   "outputs": [],
   "source": [
    "print(\"\\nSummary Statistics (Numerical):\")\n",
    "product_df.describe()"
   ]
  },
  {
   "cell_type": "markdown",
   "metadata": {},
   "source": [
    "### Customer Review\n",
    "\n",
    "We load data of customer review into dataframes and concat them together into one complete dataframe altogether. after that, we apply similar analysis methods to have an intuitive overview. The results are displayed as follows."
   ]
  },
  {
   "cell_type": "code",
   "execution_count": null,
   "metadata": {},
   "outputs": [],
   "source": [
    "# Reference: https://www.kaggle.com/code/themeeemul/sephora-eda-and-sentiment-analysis-using-pytorch\n",
    "review_df_1 = pd.read_csv(\"Sephora/reviews_0-250.csv\",index_col = 0, dtype={'author_id':'str'})\n",
    "review_df_2 = pd.read_csv(\"Sephora/reviews_250-500.csv\",index_col = 0, dtype={'author_id':'str'})\n",
    "review_df_3 = pd.read_csv(\"Sephora/reviews_500-750.csv\",index_col = 0, dtype={'author_id':'str'})\n",
    "review_df_4 = pd.read_csv(\"Sephora/reviews_750-1250.csv\",index_col = 0, dtype={'author_id':'str'})\n",
    "review_df_5 = pd.read_csv(\"Sephora/reviews_1250-end.csv\",index_col = 0, dtype={'author_id':'str'})\n",
    "\n",
    "# Merge review_df_1 till review_df_6\n",
    "review_df = pd.concat([review_df_1, review_df_2, review_df_3, review_df_4, review_df_5],axis=0)\n",
    "print(\"review_df shape: \",review_df.shape)"
   ]
  },
  {
   "cell_type": "code",
   "execution_count": null,
   "metadata": {},
   "outputs": [],
   "source": [
    "review_df.sample(5)"
   ]
  },
  {
   "cell_type": "code",
   "execution_count": null,
   "metadata": {},
   "outputs": [],
   "source": [
    "print(\"Basic Information:\")\n",
    "review_df.info()"
   ]
  },
  {
   "cell_type": "code",
   "execution_count": null,
   "metadata": {},
   "outputs": [],
   "source": [
    "print(\"\\nSummary Statistics (Numerical):\")\n",
    "review_df.describe()"
   ]
  },
  {
   "cell_type": "markdown",
   "metadata": {},
   "source": [
    "Note: The missing value part will be introduced in section `Data Cleaning`. "
   ]
  },
  {
   "cell_type": "markdown",
   "metadata": {},
   "source": [
    "## Data Manipulation & Visualization\n",
    "\n",
    "After the first step of importing, merging and describing data, we go a step further into data manipulation, to process on the data and turn it into a more tidy and easy-to-use format. Alongside, we conduct data visualization to provide us a straightforward display of all kinds of data distribution, so as to give us a clearer sense of the data. Aspects include customers' rating, item price, size, etc."
   ]
  },
  {
   "cell_type": "markdown",
   "metadata": {},
   "source": [
    "#### Rating\n",
    "\n",
    "To see the overall reputation condition of products, we visualized the distribution of customers' rating on all products. Shown below we can see that large percentage of customers give a rating between 4.5-5.0/5.0, indicating that they're satisfied with the products."
   ]
  },
  {
   "cell_type": "code",
   "execution_count": null,
   "metadata": {},
   "outputs": [],
   "source": [
    "# Customer Rating Distribution\n",
    "plt.figure(figsize=(8, 5))\n",
    "review_df['rating'].hist(bins=8, color='lightcoral', edgecolor='black')\n",
    "plt.title('Customer Rating Distribution')\n",
    "plt.xlabel('Rating')\n",
    "plt.ylabel('Frequency')\n",
    "plt.show()"
   ]
  },
  {
   "cell_type": "markdown",
   "metadata": {},
   "source": [
    "#### Price\n",
    "\n",
    "To see the price distribution of all products, we create the visualization below. To avoid outliers, we will only visualize products with price <= 350 USD."
   ]
  },
  {
   "cell_type": "code",
   "execution_count": null,
   "metadata": {},
   "outputs": [],
   "source": [
    "# Price Distribution\n",
    "# To avoid outliers, we will only visualize products with price <= 350 USD\n",
    "plt.figure(figsize=(8, 5))\n",
    "product_df[product_df['price_usd'] <= 350]['price_usd'].hist(bins=30, color='gold', edgecolor='black')\n",
    "plt.title('Price Distribution')\n",
    "plt.xlabel('Price (USD)')\n",
    "plt.ylabel('Frequency')\n",
    "plt.show()"
   ]
  },
  {
   "cell_type": "markdown",
   "metadata": {},
   "source": [
    "#### Size\n",
    "To see the size of the products, we extract numerical values from certain columns and conduct some datatype conversion to get get the size in both `oz` and `ml`."
   ]
  },
  {
   "cell_type": "code",
   "execution_count": null,
   "metadata": {},
   "outputs": [],
   "source": [
    "product_df['size']"
   ]
  },
  {
   "cell_type": "code",
   "execution_count": null,
   "metadata": {},
   "outputs": [],
   "source": [
    "product_df['size_oz'] = product_df['size'].str.extract(r'(\\d+\\.?\\d*)\\s*oz', expand=False).astype(float)\n",
    "print(product_df[['size', 'size_oz']].sample(10))"
   ]
  },
  {
   "cell_type": "code",
   "execution_count": null,
   "metadata": {},
   "outputs": [],
   "source": [
    "product_df['size_ml'] = product_df['size'].str.extract(r'(\\d+\\.?\\d*)\\s*mL', expand=False)\n",
    "product_df['size_ml'] = product_df['size_ml'].astype(float)\n",
    "print(product_df[['size', 'size_ml']].sample(10))"
   ]
  },
  {
   "cell_type": "markdown",
   "metadata": {},
   "source": [
    "### Price Per Unit\n",
    "\n",
    "To get an idea of the price distribution of products, we conduct some calculation and visualization to see the distribution. The results are show below."
   ]
  },
  {
   "cell_type": "code",
   "execution_count": null,
   "metadata": {},
   "outputs": [],
   "source": [
    "product_df['price_per_oz'] = product_df['price_usd'] / product_df['size_oz']\n",
    "product_df['price_per_ml'] = product_df['price_usd'] / product_df['size_ml']\n",
    "product_df[['price_usd', 'size_oz', 'price_per_oz', 'size_ml', 'price_per_ml']].sample(10)"
   ]
  },
  {
   "cell_type": "code",
   "execution_count": null,
   "metadata": {},
   "outputs": [],
   "source": [
    "# Price Distribution\n",
    "# To avoid outliers, we will only visualize products with price <= 350 USD\n",
    "plt.figure(figsize=(8, 5))\n",
    "product_df[product_df['price_per_oz'] <= 500]['price_per_oz'].hist(bins=30, color='gold', edgecolor='black')\n",
    "plt.title('Price Distribution')\n",
    "plt.xlabel('Price (USD)')\n",
    "plt.ylabel('Frequency')\n",
    "plt.show()"
   ]
  },
  {
   "cell_type": "markdown",
   "metadata": {},
   "source": [
    "### Category\n",
    "\n",
    "To have an idea of how many items belong to each category, we conduct counting on both primary and secondary categories."
   ]
  },
  {
   "cell_type": "code",
   "execution_count": null,
   "metadata": {},
   "outputs": [],
   "source": [
    "product_df['primary_category'].value_counts()"
   ]
  },
  {
   "cell_type": "code",
   "execution_count": null,
   "metadata": {},
   "outputs": [],
   "source": [
    "print(product_df['secondary_category'].shape)\n",
    "product_df['secondary_category'].value_counts()"
   ]
  },
  {
   "cell_type": "markdown",
   "metadata": {},
   "source": [
    "### Loves Count"
   ]
  },
  {
   "cell_type": "code",
   "execution_count": null,
   "metadata": {},
   "outputs": [],
   "source": [
    "# Price Distribution\n",
    "# To avoid outliers, we will only visualize products with price <= 350 USD\n",
    "plt.figure(figsize=(8, 5))\n",
    "product_df[product_df['loves_count'] < 400000]['loves_count'].hist(bins=30, color='gold', edgecolor='black')\n",
    "plt.title('loves Count Distribution')\n",
    "plt.xlabel('Count')\n",
    "plt.ylabel('Frequency')\n",
    "plt.show()"
   ]
  },
  {
   "cell_type": "markdown",
   "metadata": {},
   "source": [
    "### Positive/Negative Feedback Percentage\n",
    "\n",
    "Also we calculate and visualize on the positive and negative feedback percentages of customers, as another indication of their satisfactory level."
   ]
  },
  {
   "cell_type": "code",
   "execution_count": null,
   "metadata": {},
   "outputs": [],
   "source": [
    "review_df['pos_feedback_percentage'] = review_df['total_pos_feedback_count']/review_df['total_feedback_count']\n",
    "review_df['neg_feedback_percentage'] = review_df['total_neg_feedback_count']/review_df['total_feedback_count']\n",
    "review_df[['total_pos_feedback_count', 'total_feedback_count', 'pos_feedback_percentage', 'total_neg_feedback_count', 'neg_feedback_percentage']].sample(5)"
   ]
  },
  {
   "cell_type": "code",
   "execution_count": null,
   "metadata": {},
   "outputs": [],
   "source": [
    "fig, axes = plt.subplots(1, 2, figsize=(12, 5))\n",
    "fig.suptitle('Feedback Percentage Distributions')\n",
    "\n",
    "axes[0].hist(review_df['pos_feedback_percentage'], bins=30, color='green', edgecolor='black')\n",
    "axes[0].set_title('Positive Feedback Percentage')\n",
    "axes[0].set_xlabel('Percentage')\n",
    "axes[0].set_ylabel('Number of Products')\n",
    "\n",
    "axes[1].hist(review_df['neg_feedback_percentage'], bins=30, color='red', edgecolor='black')\n",
    "axes[1].set_title('Negative Feedback Percentage')\n",
    "axes[1].set_xlabel('Percentage')\n",
    "axes[1].set_ylabel('Number of Products')\n",
    "\n",
    "plt.tight_layout(rect=[0, 0, 1, 0.95])\n",
    "plt.show()"
   ]
  },
  {
   "cell_type": "markdown",
   "metadata": {},
   "source": [
    "### Ingredient\n",
    "To see the ingredients contained in the products, we processed the strings in the `ingredients` column to extract certain fields, thus making some inferences with the help of visualization tools."
   ]
  },
  {
   "cell_type": "code",
   "execution_count": null,
   "metadata": {},
   "outputs": [],
   "source": [
    "product_df['ingredients'] = product_df['ingredients'].str.strip(\"[]\").str.replace(\"'\", \"\").str.split(\", \")\n",
    "all_ingredients = product_df['ingredients'].explode().dropna().tolist()\n",
    "ingredient_counts = Counter(all_ingredients)\n",
    "ingredient_df = pd.DataFrame(ingredient_counts.items(), columns=['Ingredient', 'Count']).sort_values(by='Count', ascending=False)"
   ]
  },
  {
   "cell_type": "code",
   "execution_count": null,
   "metadata": {},
   "outputs": [],
   "source": [
    "ingredient_df.head(5)"
   ]
  },
  {
   "cell_type": "code",
   "execution_count": null,
   "metadata": {},
   "outputs": [],
   "source": [
    "top20_ingredients = [ingredient for ingredient, _ in ingredient_counts.most_common(20)]\n",
    "\n",
    "# Add column in product_df for each of the top 20 ingredients for further analysis\n",
    "for ingredient in top20_ingredients:\n",
    "    column_name = f'contains_{ingredient}'\n",
    "    product_df[column_name] = product_df['ingredients'].apply(lambda x: ingredient in x if isinstance(x, list) else False)"
   ]
  },
  {
   "cell_type": "code",
   "execution_count": null,
   "metadata": {},
   "outputs": [],
   "source": [
    "columns_to_display = ['product_id'] + [f'contains_{ingredient}' for ingredient in top20_ingredients]\n",
    "product_df[columns_to_display].head()"
   ]
  },
  {
   "cell_type": "code",
   "execution_count": null,
   "metadata": {},
   "outputs": [],
   "source": [
    "plt.figure(figsize=(12, 6))\n",
    "ingredient_df.head(20).plot(kind='barh', x='Ingredient', y='Count', legend=False, color='skyblue')\n",
    "plt.title('Top 20 Most Common Ingredients in Products')\n",
    "plt.xlabel('Count')\n",
    "plt.ylabel('Ingredient')\n",
    "plt.gca().invert_yaxis()\n",
    "plt.show()"
   ]
  },
  {
   "cell_type": "code",
   "execution_count": null,
   "metadata": {},
   "outputs": [],
   "source": [
    "wordcloud = WordCloud(width=800, height=400, background_color='white').generate_from_frequencies(ingredient_counts)\n",
    "\n",
    "plt.figure(figsize=(10, 5))\n",
    "plt.imshow(wordcloud, interpolation='bilinear')\n",
    "plt.axis('off')\n",
    "plt.title('Word Cloud of Ingredients')\n",
    "plt.show()"
   ]
  },
  {
   "cell_type": "markdown",
   "metadata": {},
   "source": [
    "### Merge Two Datasets\n",
    "\n",
    "After all of the work and analysis above, we then merge the two datasets together for more convenient future work and analysis. The process is shown below. "
   ]
  },
  {
   "cell_type": "code",
   "execution_count": null,
   "metadata": {},
   "outputs": [],
   "source": [
    "# Reference: https://www.kaggle.com/code/themeeemul/sephora-eda-and-sentiment-analysis-using-pytorch\n",
    "# Merge product_df and review_df\n",
    "cols_to_use = product_df.columns.difference(review_df.columns)\n",
    "cols_to_use = list(cols_to_use)\n",
    "cols_to_use.append('product_id')\n",
    "\n",
    "Sephora_df = pd.merge(review_df, product_df[cols_to_use], how='outer', on=['product_id', 'product_id'])\n",
    "print(\"Sephora Shape: \", Sephora_df.shape)"
   ]
  },
  {
   "cell_type": "code",
   "execution_count": null,
   "metadata": {},
   "outputs": [],
   "source": [
    "Sephora_df.sample(5)"
   ]
  },
  {
   "cell_type": "code",
   "execution_count": null,
   "metadata": {},
   "outputs": [],
   "source": [
    "Sephora_df.describe()"
   ]
  },
  {
   "cell_type": "markdown",
   "metadata": {},
   "source": [
    "### Data Cleaning\n",
    "\n",
    "Finally, to deal with potential `NaN` values in the data of all kinds, we conduct data cleaning approaches shown as follows. "
   ]
  },
  {
   "cell_type": "code",
   "execution_count": null,
   "metadata": {},
   "outputs": [],
   "source": [
    "# 1. Check for missing values\n",
    "print(\"Missing values per column:\")\n",
    "print(Sephora_df.isnull().sum())"
   ]
  },
  {
   "cell_type": "code",
   "execution_count": null,
   "metadata": {},
   "outputs": [],
   "source": [
    "# 2. Deal with missing values\n",
    "\n",
    "missing_counts = Sephora_df.isna().sum()\n",
    "threshold = 1\n",
    "columns_to_drop = missing_counts[missing_counts > threshold].index\n",
    "for col in columns_to_drop:\n",
    "    print(f\"{col}: {missing_counts[col]} missing values\")"
   ]
  },
  {
   "cell_type": "markdown",
   "metadata": {},
   "source": [
    "Considering product name the unique identifier without which analysis becomes meaningless, we choose to drop the rows where `product_name` is missing in the first place."
   ]
  },
  {
   "cell_type": "code",
   "execution_count": null,
   "metadata": {},
   "outputs": [],
   "source": [
    "# Drop rows with no product information (NaN in column 'product_name')\n",
    "Sephora_df = Sephora_df.dropna(subset=['product_name'])"
   ]
  },
  {
   "cell_type": "markdown",
   "metadata": {},
   "source": [
    "After that, we fill up the `NaN` values following certain rules correspondingly. The details are displayed below in the code block."
   ]
  },
  {
   "cell_type": "code",
   "execution_count": null,
   "metadata": {},
   "outputs": [],
   "source": [
    "# 1. Handle feedback-related columns\n",
    "Sephora_df = Sephora_df.assign(\n",
    "    helpfulness=Sephora_df['helpfulness'].fillna(0),\n",
    "    pos_feedback_percentage=Sephora_df['pos_feedback_percentage'].fillna(1),\n",
    "    neg_feedback_percentage=Sephora_df['neg_feedback_percentage'].fillna(0),\n",
    "    is_recommended=Sephora_df['is_recommended'].fillna(1)\n",
    ")\n",
    "\n",
    "# 2. Handle price-related columns by filling with price_usd\n",
    "Sephora_df = Sephora_df.assign(\n",
    "    child_max_price=Sephora_df['child_max_price'].fillna(Sephora_df['price_usd']),\n",
    "    child_min_price=Sephora_df['child_min_price'].fillna(Sephora_df['price_usd']),\n",
    "    sale_price_usd=Sephora_df['sale_price_usd'].fillna(Sephora_df['price_usd']),\n",
    "    value_price_usd=Sephora_df['value_price_usd'].fillna(Sephora_df['price_usd'])\n",
    ")\n",
    "\n",
    "# 3. Handle variation-related columns\n",
    "Sephora_df = Sephora_df.assign(\n",
    "    variation_desc=Sephora_df['variation_desc'].fillna('No variation'),\n",
    "    variation_type=Sephora_df['variation_type'].fillna('Unknown'),\n",
    "    variation_value=Sephora_df['variation_value'].fillna('Unknown')\n",
    ")\n",
    "\n",
    "# 4. Handle product and review metadata\n",
    "Sephora_df = Sephora_df.assign(\n",
    "    review_text=Sephora_df['review_text'].fillna('No review provided'),\n",
    "    review_title=Sephora_df['review_title'].fillna('No title'),\n",
    "    tertiary_category=Sephora_df['tertiary_category'].fillna('Uncategorized')\n",
    ")\n",
    "\n",
    "# 5. Handle skin, hair, and eye attributes\n",
    "Sephora_df = Sephora_df.assign(\n",
    "    skin_tone=Sephora_df['skin_tone'].fillna('Not specified'),\n",
    "    eye_color=Sephora_df['eye_color'].fillna('Not specified'),\n",
    "    skin_type=Sephora_df['skin_type'].fillna('Not specified'),\n",
    "    hair_color=Sephora_df['hair_color'].fillna('Not specified')\n",
    ")\n",
    "\n",
    "# 6. Handle ingredient and highlight columns\n",
    "Sephora_df = Sephora_df.assign(\n",
    "    ingredients=Sephora_df['ingredients'].fillna('Ingredients not listed'),\n",
    "    highlights=Sephora_df['highlights'].fillna('No highlights available')\n",
    ")\n",
    "\n",
    "# 7. Handle size-related columns\n",
    "Sephora_df = Sephora_df.assign(\n",
    "    size=Sephora_df['size'].fillna('Unknown size'),\n",
    "    size_ml=Sephora_df['size_ml'].fillna(Sephora_df['size_ml'].median()),\n",
    "    size_oz=Sephora_df['size_oz'].fillna(Sephora_df['size_oz'].median())\n",
    ")\n",
    "\n",
    "# 8. Handle price per unit columns\n",
    "Sephora_df = Sephora_df.assign(\n",
    "    price_per_ml=Sephora_df['price_per_ml'].fillna(Sephora_df['price_per_ml'].median()),\n",
    "    price_per_oz=Sephora_df['price_per_oz'].fillna(Sephora_df['price_per_oz'].median())\n",
    ")\n",
    "\n",
    "# 9. Print the result to confirm the missing values have been handled\n",
    "missing_counts_after = Sephora_df.isna().sum()\n",
    "print(\"Missing values after processing:\")\n",
    "print(missing_counts_after[missing_counts_after > 0])"
   ]
  },
  {
   "cell_type": "code",
   "execution_count": null,
   "metadata": {},
   "outputs": [],
   "source": [
    "numerical_cols = Sephora_df.select_dtypes(include=['float64', 'int64']).columns\n",
    "categorical_cols = Sephora_df.select_dtypes(include=['object']).columns"
   ]
  },
  {
   "cell_type": "code",
   "execution_count": null,
   "metadata": {},
   "outputs": [],
   "source": [
    "# 3. Strip whitespace from string columns (if any)\n",
    "Sephora_df[categorical_cols] = Sephora_df[categorical_cols].apply(lambda x: x.str.strip())"
   ]
  },
  {
   "cell_type": "markdown",
   "metadata": {},
   "source": [
    "## Part 2\n",
    "\n",
    "In Project Part 2, we will focus on applying statistical and graphical analyses to extract insights and address the research questions we posed. \n",
    "\n",
    "For review, this is our research questions:\n",
    "1. What factors drive higher product ratings? Why do certain products underperform?  \n",
    "2. How does customer sentiment change over time?\n",
    "3. Are certain ingredients linked to positive or negative customer experiences?"
   ]
  },
  {
   "cell_type": "markdown",
   "metadata": {},
   "source": [
    "### Research Problem 1: **What factors drive higher product ratings? Why do certain products underperform?**\n",
    "For research problem 1, our primary interest lies in understanding how **product-related factors** influence **average ratings of the product**. Therefore we will mainly focus on **product_df**. The combined dataset will be used in research problem 2 & research problem 3."
   ]
  },
  {
   "cell_type": "markdown",
   "metadata": {},
   "source": [
    "#### Supplement Project Part 1: Basic Analysis\n",
    "\n",
    "This part we will supplement some basic analysis of "
   ]
  },
  {
   "cell_type": "code",
   "execution_count": null,
   "metadata": {},
   "outputs": [],
   "source": [
    "product_df.columns"
   ]
  },
  {
   "cell_type": "markdown",
   "metadata": {},
   "source": [
    "To analyze the relationship between product average ratings and related numerical values (such as Price_usd, Price_per_oz, Size_oz, Loves_count, and Reviews), we can calculate the correlation between rating and these numerical features in the product_df DataFrame. This will help us identify which factors are most strongly associated with ratings."
   ]
  },
  {
   "cell_type": "code",
   "execution_count": null,
   "metadata": {},
   "outputs": [],
   "source": [
    "correlation_features = ['rating', 'price_usd', 'price_per_oz', 'size_oz', 'loves_count', 'reviews']\n",
    "\n",
    "correlation_data = product_df[correlation_features]"
   ]
  },
  {
   "cell_type": "code",
   "execution_count": null,
   "metadata": {},
   "outputs": [],
   "source": [
    "corr_matrix = correlation_data.corr()\n",
    "\n",
    "plt.figure(figsize=(10, 6))\n",
    "sns.heatmap(corr_matrix, annot=True, cmap='coolwarm', vmin=-1, vmax=1)\n",
    "plt.title('Correlation Heatmap')\n",
    "plt.show()"
   ]
  },
  {
   "cell_type": "code",
   "execution_count": null,
   "metadata": {},
   "outputs": [],
   "source": [
    "# Relationship between rating and top 10 ingredients\n",
    "correlation_features = ['rating', 'contains_Glycerin',\n",
    "       'contains_Phenoxyethanol', 'contains_Caprylyl Glycol',\n",
    "       'contains_Tocopherol', 'contains_Limonene',\n",
    "       'contains_Ethylhexylglycerin', 'contains_Dimethicone',\n",
    "       'contains_Linalool', 'contains_Silica', 'contains_Butylene Glycol']\n",
    "correlation_data = product_df[correlation_features]"
   ]
  },
  {
   "cell_type": "code",
   "execution_count": null,
   "metadata": {},
   "outputs": [],
   "source": [
    "corr_matrix = correlation_data.corr()\n",
    "\n",
    "plt.figure(figsize=(10, 6))\n",
    "sns.heatmap(corr_matrix, annot=True, cmap='coolwarm', vmin=-1, vmax=1)\n",
    "plt.title('Correlation Heatmap')\n",
    "plt.show()"
   ]
  },
  {
   "cell_type": "markdown",
   "metadata": {},
   "source": [
    "From the results above, we can observe that there is **no significant relationship** between loves_count, reviews, ingredients, and rating. \n",
    "\n",
    "However, **we will analyze the numerical variables in more detail** in the next several sections, and also **analyze the categorical variables using the Comparative & Multivariate Analysis**."
   ]
  },
  {
   "cell_type": "markdown",
   "metadata": {},
   "source": [
    "#### Descriptive Statistics"
   ]
  },
  {
   "cell_type": "markdown",
   "metadata": {},
   "source": [
    "- **Objective**: Use descriptive statistics to explore the central tendency and dispersion of rating data to identify primary drivers of product ratings.\n",
    "- **Method**: Calculate the mean, median, mode, range, variance, and standard deviation of product ratings and other factors.\n",
    "- **Expected Outcome**: By analyzing the mean and median, we can assess rating distribution. Categories with higher standard deviations might indicate a broader range of factors affecting performance."
   ]
  },
  {
   "cell_type": "code",
   "execution_count": null,
   "metadata": {},
   "outputs": [],
   "source": [
    "# Use ChatGPT to generate a summary of the dataset\n",
    "\n",
    "# Descriptive statistics for the 'rating' column and other relevant columns in product_df\n",
    "rating_data = product_df['rating']  # Replace 'rating' with actual column name if different\n",
    "\n",
    "# Calculating descriptive statistics\n",
    "mean_rating = rating_data.mean()\n",
    "median_rating = rating_data.median()\n",
    "mode_rating = rating_data.mode().iloc[0]  # Mode may return multiple values; take the first mode\n",
    "range_rating = rating_data.max() - rating_data.min()\n",
    "variance_rating = rating_data.var()\n",
    "std_dev_rating = rating_data.std()\n",
    "\n",
    "# Print results\n",
    "print(\"Descriptive Statistics for Ratings:\")\n",
    "print(f\"Mean: {mean_rating}\")\n",
    "print(f\"Median: {median_rating}\")\n",
    "print(f\"Mode: {mode_rating}\")\n",
    "print(f\"Range: {range_rating}\")\n",
    "print(f\"Variance: {variance_rating}\")\n",
    "print(f\"Standard Deviation: {std_dev_rating}\")"
   ]
  },
  {
   "cell_type": "markdown",
   "metadata": {},
   "source": [
    "**Conclusions:**\n",
    "\n",
    "1. **Mean and Median**: \n",
    "   - The mean (4.19) and median (4.29) reflect generally positive product ratings, with a skew toward higher values, indicating strong overall customer satisfaction.\n",
    "\n",
    "2. **Mode**: \n",
    "   - A mode of 5.0 suggests that a significant number of products received top ratings.\n",
    "\n",
    "3. **Range**:\n",
    "   - Average product ratings span from 1.0 to 5.0, indicating differences in customer satisfaction.\n",
    "\n",
    "4. **Variance and Standard Deviation**: \n",
    "   - The moderate variance (0.27) and standard deviation (0.52) indicate some variation in ratings, showing that while most ratings are clustered, there is notable diversity."
   ]
  },
  {
   "cell_type": "code",
   "execution_count": null,
   "metadata": {},
   "outputs": [],
   "source": [
    "# If you want to calculate these metrics for additional columns (e.g., 'price', 'review_count', etc.), you can loop through them:\n",
    "relevant_columns = ['price_usd', 'price_per_oz', 'size_oz', 'loves_count', 'reviews']  # Replace with actual column names\n",
    "\n",
    "# Loop through relevant columns and print statistics\n",
    "for column in relevant_columns:\n",
    "    print(f\"\\nDescriptive Statistics for {column.capitalize()}:\")\n",
    "    mean = product_df[column].mean()\n",
    "    median = product_df[column].median()\n",
    "    mode = product_df[column].mode().iloc[0]  # Take the first mode if multiple\n",
    "    value_range = product_df[column].max() - product_df[column].min()\n",
    "    variance = product_df[column].var()\n",
    "    std_dev = product_df[column].std()\n",
    "    \n",
    "    print(f\"Mean: {mean}\")\n",
    "    print(f\"Median: {median}\")\n",
    "    print(f\"Mode: {mode}\")\n",
    "    print(f\"Range: {value_range}\")\n",
    "    print(f\"Variance: {variance}\")\n",
    "    print(f\"Standard Deviation: {std_dev}\")"
   ]
  },
  {
   "cell_type": "markdown",
   "metadata": {},
   "source": [
    "**Conclusions and Why they are considered as related factors:**\n",
    "\n",
    "1. **Price_usd**: \n",
    "   - Positive skew with a mean of $51.66 and a high variance suggests a range of product pricing. It will potentially impact ratings if high-priced items don't meet expectations.\n",
    "\n",
    "2. **Price_per_oz**: \n",
    "   - The high mean of $160.71 with a large standard deviation implies a few very expensive products that may set variable customer expectations and influence ratings.\n",
    "\n",
    "3. **Size_oz**: \n",
    "   - Mean of 3.63 oz and lower variance suggest that most products are small, which could indirectly impact ratings if larger sizes are perceived as better value.\n",
    "\n",
    "4. **Loves_count**: \n",
    "   - High variance and mean of 29,179 suggest popularity varies widely. Higher \"Loves\" counts may correlate with higher ratings, reflecting customer satisfaction.\n",
    "\n",
    "5. **Reviews**: \n",
    "   - Positive skew with a mean of 448.55 and high variance indicates some products have more customer engagement, which could stabilize average ratings."
   ]
  },
  {
   "cell_type": "markdown",
   "metadata": {},
   "source": [
    "#### Inferential Statistics"
   ]
  },
  {
   "cell_type": "markdown",
   "metadata": {},
   "source": [
    "- **Objective**: Validate which variables (such as price, product type, or ingredients) significantly influence product ratings.\n",
    "- **Method**:\n",
    "    - **Regression Analysis**: Evaluate relationships between product features (e.g., price, number of ingredients) and ratings.\n",
    "    - **ANOVA (Analysis of Variance)**: Test for significant differences in ratings across different product categories.\n",
    "- **Expected Outcome**: Determine whether certain product features have a significant effect on ratings, explaining why some products underperform."
   ]
  },
  {
   "cell_type": "markdown",
   "metadata": {},
   "source": [
    "##### Regression Analysis\n",
    "\n",
    "This is for testing correlation with continuous variables like `Price_usd`\n",
    "\n",
    "**Steps**:\n",
    "1. **Define Hypotheses**:\n",
    "   - **Null Hypothesis (H₀)**: There is no significant relationship between product ratings and price (`Price_usd`).\n",
    "   - **Alternative Hypothesis (H₁)**: There is a significant relationship between product ratings and price.\n",
    "\n",
    "2. **Conduct Regression**:\n",
    "   - Perform a simple linear regression with `rating` as the dependent variable and `Price_usd` as the independent variable.\n",
    "   - If you have multiple factors (like `Price_usd`, `Price_per_oz`, etc.), use multiple linear regression.\n",
    "\n",
    "3. **Choose Significance Level**:\n",
    "   - Typically, we use a significance level of α = 0.05.\n",
    "\n",
    "4. **Interpret Results**:\n",
    "   - If the p-value for `Price_usd` (or other factors) is below 0.05, reject the null hypothesis, suggesting a significant relationship between rating and price.\n",
    "   - Check the coefficient to see if the relationship is positive or negative."
   ]
  },
  {
   "cell_type": "code",
   "execution_count": null,
   "metadata": {},
   "outputs": [],
   "source": []
  },
  {
   "cell_type": "markdown",
   "metadata": {},
   "source": [
    "#### Graphical Analysis\n",
    "\n",
    "- **Objective**: Visually display rating distributions and correlations to identify potential drivers.\n",
    "- **Method**: Use bar charts and box plots to observe rating distributions across product categories, and scatter plots to examine ratings against factors like price and ingredients.\n",
    "- **Expected Outcome**: Identify trends in rating distribution and potential outliers to determine which features are associated with higher or lower ratings."
   ]
  },
  {
   "cell_type": "markdown",
   "metadata": {},
   "source": [
    "##### Price v.s. Rating"
   ]
  },
  {
   "cell_type": "code",
   "execution_count": null,
   "metadata": {},
   "outputs": [],
   "source": [
    "# Hexbin Plot (Rating vs Price)\n",
    "# Filter products with price <= 350 USD\n",
    "filtered_df = product_df[product_df['price_usd'] <= 350]\n",
    "\n",
    "plt.figure(figsize=(8, 6))\n",
    "plt.hexbin(filtered_df['price_usd'], filtered_df['rating'], gridsize=30, \n",
    "           cmap='viridis', mincnt=1)\n",
    "\n",
    "plt.colorbar(label='Number of Products')\n",
    "plt.xlabel('Price (USD)')\n",
    "plt.ylabel('Rating')\n",
    "plt.title('Hexbin Plot of Rating vs Price (<= 350 USD)')\n",
    "plt.show()"
   ]
  },
  {
   "cell_type": "code",
   "execution_count": null,
   "metadata": {},
   "outputs": [],
   "source": [
    "# Hexbin Plot (Rating vs Unit Price)\n",
    "# Filter products with unit price <= 600 USD\n",
    "filtered_df = product_df[product_df['price_per_oz'] <= 600]\n",
    "\n",
    "plt.figure(figsize=(8, 6))\n",
    "plt.hexbin(filtered_df['price_per_oz'], filtered_df['rating'], gridsize=30, \n",
    "           cmap='viridis', mincnt=1)\n",
    "\n",
    "plt.colorbar(label='Number of Products')\n",
    "plt.xlabel('Price (USD)')\n",
    "plt.ylabel('Rating')\n",
    "plt.title('Hexbin Plot of Rating vs Price (<= 350 USD)')\n",
    "plt.show()"
   ]
  },
  {
   "cell_type": "code",
   "execution_count": null,
   "metadata": {},
   "outputs": [],
   "source": [
    "bins = [0, 10, 20, 50, 100, 200, 500, product_df['price_usd'].max()]\n",
    "labels = ['0-10', '10-20', '20-50', '50-100', '100-200', '200-500', f'500+']\n",
    "\n",
    "product_df['price_bin'] = pd.cut(product_df['price_usd'], bins=bins, labels=labels, include_lowest=True)\n",
    "\n",
    "avg_rating_by_bin = product_df.groupby('price_bin')['rating'].mean().reset_index()\n",
    "\n",
    "plt.figure(figsize=(6, 4))\n",
    "plt.bar(avg_rating_by_bin['price_bin'], avg_rating_by_bin['rating'])\n",
    "plt.title('Average Rating by Price Bin', fontsize=16)\n",
    "plt.xlabel('Price Range (USD)', fontsize=12)\n",
    "plt.ylabel('Average Rating', fontsize=12)\n",
    "\n",
    "plt.show()"
   ]
  },
  {
   "cell_type": "code",
   "execution_count": null,
   "metadata": {},
   "outputs": [],
   "source": [
    "bins = [0, 50, 100, 200, 500, product_df['price_per_oz'].max()]\n",
    "labels = ['0-50', '50-100', '100-200', '200-500', f'500+']\n",
    "\n",
    "product_df['price_bin'] = pd.cut(product_df['price_per_oz'], bins=bins, labels=labels, include_lowest=True)\n",
    "\n",
    "avg_rating_by_bin = product_df.groupby('price_bin')['rating'].mean().reset_index()\n",
    "\n",
    "plt.figure(figsize=(6, 4))\n",
    "plt.bar(avg_rating_by_bin['price_bin'], avg_rating_by_bin['rating'])\n",
    "plt.title('Average Rating by Price Bin', fontsize=16)\n",
    "plt.xlabel('Price Range (USD)', fontsize=12)\n",
    "plt.ylabel('Average Rating', fontsize=12)\n",
    "\n",
    "plt.show()"
   ]
  },
  {
   "cell_type": "markdown",
   "metadata": {},
   "source": [
    "**Analysis:**\n",
    "\n",
    "From the figure above, we can observe **slight differences between total price and average rating**. However, **no noticeable differences** are found between unit price and average rating.  \n",
    "\n",
    "Additionally, if we aim to **achieve higher ratings**, setting the price within the **20-200** range may be effective."
   ]
  },
  {
   "cell_type": "markdown",
   "metadata": {},
   "source": [
    "#### Comparative Analysis\n",
    "\n",
    "- **Objective**: Compare ratings across different product categories or other subsets to explore variations.\n",
    "- **Method**: Compare ratings by category to identify the performance of specific groups.\n",
    "- **Expected Outcome**: Identify categories with notably higher or lower ratings, explaining which factors might drive ratings up or down."
   ]
  },
  {
   "cell_type": "markdown",
   "metadata": {},
   "source": [
    "##### Category v.s. Rating"
   ]
  },
  {
   "cell_type": "code",
   "execution_count": null,
   "metadata": {},
   "outputs": [],
   "source": [
    "# Primary Category vs Average Rating\n",
    "product_df['rating'] = pd.to_numeric(product_df['rating'], errors='coerce')\n",
    "\n",
    "avg_rating_by_category = product_df.groupby('primary_category')['rating'].mean().\\\n",
    "    reset_index().sort_values(by='rating', ascending=False)\n",
    "avg_rating_by_category.columns = ['primary_category', 'average_rating']\n",
    "print(avg_rating_by_category)"
   ]
  },
  {
   "cell_type": "code",
   "execution_count": null,
   "metadata": {},
   "outputs": [],
   "source": [
    "# Secondary Category vs Average Rating\n",
    "avg_rating_by_category = product_df.groupby('secondary_category')['rating'].mean().\\\n",
    "    reset_index().sort_values(by='rating', ascending=False)\n",
    "avg_rating_by_category.columns = ['secondary_category', 'average_rating']\n",
    "print(avg_rating_by_category)"
   ]
  },
  {
   "cell_type": "code",
   "execution_count": null,
   "metadata": {},
   "outputs": [],
   "source": [
    "# Secondary Category vs Average Rating\n",
    "avg_rating_by_category = product_df.groupby('tertiary_category')['rating'].mean().\\\n",
    "    reset_index().sort_values(by='rating', ascending=False)\n",
    "avg_rating_by_category.columns = ['tertiary_category', 'average_rating']\n",
    "print(avg_rating_by_category)"
   ]
  },
  {
   "cell_type": "markdown",
   "metadata": {},
   "source": [
    "**Analysis:**\n",
    "\n",
    "From the results, we can observe the following trends:\n",
    "\n",
    "**Primary Category:**  \n",
    "- **Top performers:** \"Gifts\" (4.56) and \"Men\" (4.50) have the highest average ratings, indicating that these product categories are highly appreciated by customers. This may suggest that these products meet customer expectations well, potentially due to their quality, usability, or alignment with specific customer needs.  \n",
    "- **Lower performers:** \"Mini Size\" (4.00) and \"Makeup\" (4.14) receive comparatively lower ratings, suggesting room for improvement. It’s possible that mini-sized products offer less value or that makeup items may not fully meet customer expectations in terms of variety, durability, or performance.  \n",
    "\n",
    "**Secondary Category:**  \n",
    "- **Highest rated:** \"Other Needs\" (4.68) and \"Shaving\" (4.64) receive the highest scores, indicating strong customer satisfaction. Shaving products might perform well due to their practical utility, while \"Other Needs\" likely covers niche items that satisfy specific demands.  \n",
    "- **Lower ratings:** Categories like \"Nail\" (3.88) and \"Fragrance\" (3.87) are rated lower, possibly due to limited product effectiveness, insufficient variety, or unmet customer expectations. The subjective nature of fragrances and varying preferences in nail care products could contribute to these lower ratings.  \n",
    "\n",
    "**Tertiary Category:**  \n",
    "- **Top categories:** \"Lip Brushes\" (4.71) and \"Shaving\" (4.71) are among the highest-rated, suggesting these niche products perform well. This could imply that customers appreciate specialized tools that enhance their beauty routines or provide value through functionality.  \n",
    "- **Lowest performers:** \"Manicure & Pedicure Tools\" (2.29) and \"BB & CC Cream\" (3.67) have the lowest average ratings, indicating dissatisfaction or unmet expectations. This could result from poor product quality, lack of innovation, or insufficient effectiveness compared to competitors.  \n",
    "\n",
    "These results highlight areas where certain products excel and others fall short, suggesting that focusing on **customer feedback and product refinement** in the lower-performing categories could enhance overall satisfaction."
   ]
  },
  {
   "cell_type": "markdown",
   "metadata": {},
   "source": [
    "##### Brand vs Average Rating"
   ]
  },
  {
   "cell_type": "code",
   "execution_count": null,
   "metadata": {},
   "outputs": [],
   "source": [
    "# brand_name vs Average Rating\n",
    "avg_rating_by_category = product_df.groupby('brand_name')['rating'].mean().\\\n",
    "    reset_index().sort_values(by='rating', ascending=False)\n",
    "avg_rating_by_category.columns = ['brand_name', 'average_rating']\n",
    "print(avg_rating_by_category)"
   ]
  },
  {
   "cell_type": "markdown",
   "metadata": {},
   "source": [
    "**Analysis:**\n",
    "\n",
    "**Top Brands:**\n",
    "- **Erno Laszlo** (5.00), **Aquis** (4.90), **MACRENE actives** (4.89), and **MARA** (4.82) show high customer satisfaction, likely due to consistent quality and meeting customer needs.\n",
    "\n",
    "**Lower-Rated Brands:**\n",
    "- **Christophe Robin** (3.15) and **Good Dye Young** (3.06) have lower ratings, suggesting issues with product quality or unmet expectations.\n",
    "\n",
    "**Lowest-Rated Brand:**\n",
    "- **Overose** (2.85) indicates significant dissatisfaction, likely due to performance issues or poor customer experience.\n",
    "\n",
    "High-performing brands should maintain their quality, while underperforming brands need to address product and customer experience issues."
   ]
  },
  {
   "cell_type": "markdown",
   "metadata": {},
   "source": [
    "##### Rating v.s. Online or not"
   ]
  },
  {
   "cell_type": "code",
   "execution_count": null,
   "metadata": {},
   "outputs": [],
   "source": [
    "# Online vs Average Rating\n",
    "avg_rating_by_category = product_df.groupby('online_only')['rating'].mean().\\\n",
    "    reset_index().sort_values(by='rating', ascending=False)\n",
    "avg_rating_by_category.columns = ['online_only', 'average_rating']\n",
    "print(avg_rating_by_category)"
   ]
  },
  {
   "cell_type": "markdown",
   "metadata": {},
   "source": [
    "**Non-online products** (4.20) have slightly higher ratings than **online-only products** (4.17)."
   ]
  },
  {
   "cell_type": "markdown",
   "metadata": {},
   "source": [
    "#### Multivariate Analysis\n",
    "\n",
    "- **Objective**: Study the influence of multiple factors on ratings simultaneously.\n",
    "- **Method**: Use pivot tables and multivariate scatter plots to explore the relationship between ingredient counts, prices, and ratings.\n",
    "- **Expected Outcome**: Understand how various factors interact to drive ratings higher or lower."
   ]
  },
  {
   "cell_type": "markdown",
   "metadata": {},
   "source": [
    "##### Rating v.s. Online or not & Category"
   ]
  },
  {
   "cell_type": "code",
   "execution_count": null,
   "metadata": {},
   "outputs": [],
   "source": [
    "# Calculate average rating by both primary category and online_only status\n",
    "avg_rating_online_category = product_df.groupby(['primary_category', 'online_only'])['rating'].mean().reset_index()\n",
    "\n",
    "# Pivot the data for better comparison\n",
    "pivot_table = avg_rating_online_category.pivot(index='primary_category', columns='online_only', values='rating')\n",
    "\n",
    "pivot_table.columns = ['Non-Online', 'Online']\n",
    "\n",
    "# Calculate the rating difference between online and non-online categories\n",
    "pivot_table['Rating_Difference'] = pivot_table['Online'] - pivot_table['Non-Online']\n",
    "\n",
    "pivot_table = pivot_table.sort_values(by='Rating_Difference', ascending=False)\n",
    "print(pivot_table)"
   ]
  },
  {
   "cell_type": "markdown",
   "metadata": {},
   "source": [
    "**Analysis:**\n",
    "\n",
    "**Primary Category Comparison:**  \n",
    "1. **Higher Online Ratings:**  \n",
    "   - **Mini Size:** 4.06 vs. 3.99 (+0.06) – More convenient for online purchases.  \n",
    "   - **Skincare:** 4.27 vs. 4.22 (+0.05) – Benefits from detailed product information online.\n",
    "\n",
    "2. **Minimal Difference:**  \n",
    "   - **Tools & Brushes:** 4.27 vs. 4.27 (-0.0005) – Similar satisfaction across both channels.\n",
    "\n",
    "3. **Higher Non-Online Ratings:**  \n",
    "   - **Makeup:** 4.16 vs. 3.99 (-0.17) – In-person trials likely preferred.  \n",
    "   - **Fragrance:** 4.26 vs. 4.14 (-0.11) – Harder to evaluate online.  \n",
    "   - **Men:** 4.54 vs. 4.38 (-0.16) – Benefits from in-store accessibility and recommendations.\n",
    "\n",
    "**Conclusion:**\n",
    "- **Products like Mini Size and Skincare** benefit from online availability, likely due to convenience and access to reviews.\n",
    "- **Makeup and Fragrances** perform better offline, suggesting that in-store experiences play a key role in customer satisfaction for these categories.\n",
    "- **Distribution Strategy Implication:** Focusing on enhancing **online shopping experiences for Makeup and Fragrances** (e.g., offering virtual try-ons) could help improve ratings."
   ]
  },
  {
   "cell_type": "markdown",
   "metadata": {},
   "source": [
    "#### Synthesis\n",
    "\n",
    "**Conclusion:**"
   ]
  },
  {
   "cell_type": "markdown",
   "metadata": {},
   "source": [
    "\n",
    "### Research Question 2: **How does customer sentiment change over time?**\n",
    "\n",
    "1. **Descriptive Statistics**:\n",
    "    - **Objective**: Explore trends in time series data through descriptive statistics to gain an initial understanding of customer sentiment fluctuations.\n",
    "    - **Method**: Calculate the mean and standard deviation of sentiment ratings for each time period to determine the trend and range of sentiment changes.\n",
    "    - **Expected Outcome**: Identify central tendencies and volatility in sentiment, providing an initial understanding of sentiment trends over time.\n",
    "\n",
    "2. **Inferential Statistics**:\n",
    "    - **Objective**: Test the significance of time-related changes in customer sentiment.\n",
    "    - **Method**: Use **time series analysis** or **linear regression** to assess the influence of time on sentiment ratings.\n",
    "    - **Expected Outcome**: Determine if sentiment changes significantly over time, offering potential explanations for sentiment shifts.\n",
    "\n",
    "3. **Graphical Analysis**:\n",
    "    - **Objective**: Use visualizations to identify sentiment change patterns within the time series.\n",
    "    - **Method**: Use line charts and bar charts to display sentiment score changes over different periods, making trends easier to observe.\n",
    "    - **Expected Outcome**: Visually capture how sentiment changes over time, identifying possible fluctuations or significant trends.\n",
    "\n",
    "4. **Comparative Analysis**:\n",
    "    - **Objective**: Compare sentiment ratings across different time periods to observe if there are notable differences.\n",
    "    - **Method**: Group data by time segments and compare changes in sentiment ratings to identify any seasonal or periodic trends.\n",
    "    - **Expected Outcome**: Discover significant sentiment changes during specific periods, offering insights into trends in customer sentiment.\n",
    "\n",
    "5. **Multivariate Analysis**:\n",
    "    - **Objective**: Investigate the combined effect of time and other variables (e.g., ingredients, ratings) on sentiment.\n",
    "    - **Method**: Use cross-tabulations and multivariate charts to analyze sentiment score variations across different ingredients over time.\n",
    "    - **Expected Outcome**: Identify complex relationships between sentiment scores, time, and other variables, determining if sentiment changes are influenced by additional factors.\n",
    "\n",
    "---\n",
    "\n",
    "### Research Question 3: **Are certain ingredients linked to positive or negative customer experiences?**\n",
    "\n",
    "1. **Descriptive Statistics**:\n",
    "    - **Objective**: Use descriptive statistics to explore associations between ingredients and customer experience scores.\n",
    "    - **Method**: Calculate the mean, variance, and standard deviation of sentiment ratings for products containing specific ingredients to gauge their effects.\n",
    "    - **Expected Outcome**: Observe if specific ingredients are associated with higher or lower sentiment scores, offering a preliminary indication of their impact on customer experience.\n",
    "\n",
    "2. **Inferential Statistics**:\n",
    "    - **Objective**: Test the significant relationship between specific ingredients and customer experience.\n",
    "    - **Method**: Use **chi-squared tests** to assess the relationship between ingredients and sentiment scores, or apply **t-tests** and **ANOVA** to compare ratings between products with and without certain ingredients.\n",
    "    - **Expected Outcome**: Confirm whether certain ingredients are significantly associated with differences in customer experience, supporting or refuting their influence on sentiment.\n",
    "\n",
    "3. **Graphical Analysis**:\n",
    "    - **Objective**: Visually display the relationship between ingredients and customer experience.\n",
    "    - **Method**: Use bar charts and box plots to display sentiment score distributions for products with specific ingredients, helping to identify patterns.\n",
    "    - **Expected Outcome**: View the distribution of ratings for products with various ingredients, revealing ingredients potentially linked to positive or negative experiences.\n",
    "\n",
    "4. **Comparative Analysis**:\n",
    "    - **Objective**: Compare sentiment scores among different ingredient combinations to explore ingredient-related differences.\n",
    "    - **Method**: Compare sentiment ratings for products with different ingredient combinations to identify significant differences.\n",
    "    - **Expected Outcome**: Identify ingredient combinations associated with notably positive or negative experiences, providing insights into ingredient impact on customer sentiment.\n",
    "\n",
    "5. **Multivariate Analysis**:\n",
    "    - **Objective**: Understand the combined relationships between ingredients, ratings, and sentiment.\n",
    "    - **Method**: Use multivariate scatter plots and cross-tabulations to analyze relationships between ingredients, ratings, and sentiment scores.\n",
    "    - **Expected Outcome**: Determine how multiple ingredients collectively influence customer experience, identifying potential interaction effects. \n"
   ]
  },
  {
   "cell_type": "markdown",
   "metadata": {},
   "source": [
    "### Synthesis"
   ]
  },
  {
   "cell_type": "markdown",
   "metadata": {},
   "source": []
  },
  {
   "cell_type": "markdown",
   "metadata": {},
   "source": [
    "### Reflection"
   ]
  },
  {
   "cell_type": "markdown",
   "metadata": {},
   "source": []
  }
 ],
 "metadata": {
  "kernelspec": {
   "display_name": "spacy",
   "language": "python",
   "name": "python3"
  },
  "language_info": {
   "codemirror_mode": {
    "name": "ipython",
    "version": 3
   },
   "file_extension": ".py",
   "mimetype": "text/x-python",
   "name": "python",
   "nbconvert_exporter": "python",
   "pygments_lexer": "ipython3",
   "version": "3.12.7"
  }
 },
 "nbformat": 4,
 "nbformat_minor": 2
}
