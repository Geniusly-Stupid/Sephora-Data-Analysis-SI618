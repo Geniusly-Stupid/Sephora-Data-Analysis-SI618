{
 "cells": [
  {
   "cell_type": "markdown",
   "metadata": {},
   "source": [
    "# 618 Project - Cosmetics Product Analysis Part 2\n",
    "\n",
    "**Team Members**: \n",
    "- Ruizhe Wang (Unique Name: wrzwrz)\n",
    "- Zhiyi Ji (Unique Name: jizhiyi)"
   ]
  }
 ],
 "metadata": {
  "language_info": {
   "name": "python"
  }
 },
 "nbformat": 4,
 "nbformat_minor": 2
}
